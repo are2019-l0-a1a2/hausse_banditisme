{
 "cells": [
  {
   "cell_type": "markdown",
   "metadata": {},
   "source": [
    "# SOCIETE "
   ]
  },
  {
   "cell_type": "code",
   "execution_count": 126,
   "metadata": {},
   "outputs": [],
   "source": [
    "import numpy as np\n",
    "import random\n",
    "\n",
    "def tableauBase(P):\n",
    "    \"\"\"les O sont les batiments pauvres et 1 les batiments riches.\"\"\"\n",
    "    tableau_de_zero_un = np.zeros((20,20), dtype='i')\n",
    "    for i in range(len(tableau_de_zero_un)):\n",
    "        for j in range(len(tableau_de_zero_un)):\n",
    "            if random.random() < P :\n",
    "                tableau_de_zero_un[i,j] = 1\n",
    "    #print(\"\\n\\n\\t\\t VILLE BASIQUE\\n\\n\\n\")\n",
    "    #print(tableau_de_zero_un)\n",
    "    return tableau_de_zero_un\n",
    "    \n",
    "tab_base = tableauBase(0.5)"
   ]
  },
  {
   "cell_type": "markdown",
   "metadata": {},
   "source": [
    "*** Dans la premiere matrice on place les riches(modélisé à 1) et les pauvres (modélisé à 0) selon la probabilités que nous donnons ***"
   ]
  },
  {
   "cell_type": "markdown",
   "metadata": {},
   "source": [
    "*** la deuxieme matrice represente la creation de gang dû à la présence d'un \" carré\"(de -1) de 4 \"batiments\" de pauvres.***"
   ]
  },
  {
   "cell_type": "code",
   "execution_count": 127,
   "metadata": {},
   "outputs": [],
   "source": [
    "\n",
    "import numpy as np\n",
    "\n",
    "def creationDeGang(tab):\n",
    "    \"\"\"H: nous voulons savoir si un carré crée un groupe de gang (nommé 3)\"\"\"\n",
    "    tableau = tab.copy()\n",
    "    for i in range(len(tableau)) :\n",
    "        for j in range(len(tableau)) :\n",
    "            if  i+1 < len(tableau) and i-1 >= 0 and  j+1 < len(tableau) and j-1 >= 0:\n",
    "                 if tableau[i,j] == 0 and tableau[i+1,j]==0  and tableau[i,j+1]==0 and tableau[i+1,j+1]==0 :\n",
    "                    tableau[i,j] = -1\n",
    "                    tableau[i+1,j]=-1 \n",
    "                    tableau[i,j+1]=-1\n",
    "                    tableau[i+1,j+1]=-1           \n",
    "    #print(\"\\n\\n\\t\\t VILLE AVEC GANG\\n\\n\\n\")\n",
    "    #print(tableau)\n",
    "    return tableau\n",
    "\n",
    "#tab_G =creationDeGang(tab_base)"
   ]
  },
  {
   "cell_type": "markdown",
   "metadata": {},
   "source": [
    "***les carrés de violet seront les gangs crée ,je 1 est en jaune et en bleu le 0***"
   ]
  },
  {
   "cell_type": "markdown",
   "metadata": {},
   "source": [
    "***On remarque que il y a des gangs qui se crée peu a peu dû à la grande présence de 0 (de pauvreté)***"
   ]
  },
  {
   "cell_type": "code",
   "execution_count": 128,
   "metadata": {},
   "outputs": [],
   "source": [
    "import matplotlib.pyplot as plt\n",
    "# Display matrix\n",
    "#plt.matshow(tab_base)\n",
    "#plt.matshow(tab_G)\n",
    "#plt.show()\n",
    "\n"
   ]
  },
  {
   "cell_type": "markdown",
   "metadata": {},
   "source": [
    "    *** 11/03 : création de programmes qui calcule la moyenne de l'entourage d'un 1 ou 0 (fait par urbain) ,creation de la list qui enregistre ceux qui on un bon ou un mauvais entourage et modifie  la matrice en conditionset presente le tout (danny) ,recherche documentale qui permettra de faire le parallele entre les  programmes utilisé  ***"
   ]
  },
  {
   "cell_type": "code",
   "execution_count": 129,
   "metadata": {},
   "outputs": [],
   "source": [
    "def voisins(tab, rowNumber, columnNumber):\n",
    "    '''\n",
    "    Petite fonction pour récupérer les voisins\n",
    "    '''\n",
    "    N = []\n",
    "    for i in range(rowNumber-1, rowNumber+2):\n",
    "        for j in range(columnNumber-1, columnNumber+2):\n",
    "            if  (i >= 0 and i < tab.shape[0]) and (j >= 0 and j < tab.shape[1]) and ((i,j)!=(rowNumber,columnNumber)):\n",
    "                N.append(tab[i,j])\n",
    "    return N\n"
   ]
  },
  {
   "cell_type": "code",
   "execution_count": 130,
   "metadata": {},
   "outputs": [
    {
     "data": {
      "text/plain": [
       "0.75"
      ]
     },
     "execution_count": 130,
     "metadata": {},
     "output_type": "execute_result"
    }
   ],
   "source": [
    "def moyenne_voisins(tab,i,j):\n",
    "    '''\n",
    "    Calcul de la moyenne des valeurs voisinnes\n",
    "    '''\n",
    "    N = voisins(tab,i,j)\n",
    "    return sum(N)/len(N)\n",
    "    \n",
    "moyenne_voisins(tab_base,6,4)"
   ]
  },
  {
   "cell_type": "code",
   "execution_count": 131,
   "metadata": {},
   "outputs": [],
   "source": [
    "def Ldemande(tableau):\n",
    "    \"\"\" quand on fait le parcours de tableau on voit l'entourage et on place dans une liste (liste demande) les demande de demenagement\"\"\"\n",
    "    \n",
    "    #DM : list[int]\n",
    "    DM = []\n",
    "    for i in range(len(tableau)) :\n",
    "        for j in range(len(tableau)) :\n",
    "            #if  i+1 < len(tableau) and i-1 >= 0 and  j+1 < len(tableau) and j-1 >= 0 :\n",
    "                if (tableau[i,j] == 1 and  moyenne_voisins(tableau,i,j) < 0.5) or (tableau[i,j] == 0 and  moyenne_voisins(tableau,i,j) > 0.5) :\n",
    "                    DM.append(tableau[i,j])\n",
    "                                             \n",
    "    return DM\n",
    "\n"
   ]
  },
  {
   "cell_type": "code",
   "execution_count": 132,
   "metadata": {},
   "outputs": [],
   "source": [
    "def posedemenagement(tab):\n",
    "    \"\"\"transformation de personne qui on demande de demenager => case 1 ou 0 devient 2 represente la demande de demenagement \"\"\"\n",
    "    tableau = tab.copy()\n",
    "    for i in range(len(tableau)) :\n",
    "        for j in range(len(tableau)) :\n",
    "             if  i+1 < len(tableau) and i-1 >= 0 and  j+1 < len(tableau) and j-1 >= 0 :\n",
    "                    if (tableau[i,j] == 1 and  moyenne_voisins(tableau,i,j) < 0.5) or (tableau[i,j] == 0 and  moyenne_voisins(tableau,i,j) > 0.5 ) :\n",
    "                        tableau[i,j] = 2\n",
    "        \n",
    "    #print(\"\\n\\n\\t\\t REACTION HABITANT\\n\\n\\n\")\n",
    "    #print(tableau)\n",
    "    return tableau\n"
   ]
  },
  {
   "cell_type": "code",
   "execution_count": 139,
   "metadata": {},
   "outputs": [],
   "source": [
    "def demenagement(tableau,tab_bases,L):\n",
    "    \"\"\"deplacement de personne\"\"\"\n",
    "    \n",
    "    #ind : int\n",
    "    for i in range(len(tableau)) :\n",
    "        for j in range(len(tableau)) :\n",
    "            \n",
    "             if  i+1 < len(tableau) and i-1 >= 0 and  j+1 < len(tableau) and j-1 >= 0:\n",
    "                    \n",
    "                    if tableau[i,j] == 2  and moyenne_voisins(tab_base,i,j) > 0.5 :\n",
    "                        for demandeur in range (0,len(L)-1):\n",
    "                             if L[demandeur] == 1:\n",
    "                                tableau[i,j] = L[demandeur]\n",
    "                                L[demandeur] = -2\n",
    "                                break\n",
    "                        if tableau[i,j] == 2:\n",
    "                            tableau[i,j] = tab_bases[i,j]\n",
    "                                \n",
    "                    if tableau[i,j] == 2  and moyenne_voisins(tab_base,i,j) <= 0.5 :\n",
    "                        for demandeur in range (0,len(L)-1):\n",
    "                            if L[demandeur] == 0 :\n",
    "                                tableau[i,j] = L[demandeur]\n",
    "                                L[demandeur] = -2\n",
    "                                break\n",
    "                                \n",
    "                        if tableau[i,j] == 2:\n",
    "                            tableau[i,j] = tab_bases[i,j]\n",
    "    print(\"\\n\\n\\t NOUVEAU  QUARTIER \\n\\n\\n\")\n",
    "    print(tableau)\n",
    "    return tableau\n"
   ]
  },
  {
   "cell_type": "code",
   "execution_count": 140,
   "metadata": {},
   "outputs": [],
   "source": [
    "def LdemandeurRestant(tableau,tab_bases,L):\n",
    "    \"\"\"liste des demande non traiter\"\"\"\n",
    "    #ind : int\n",
    "    for i in range(len(tableau)) :\n",
    "        for j in range(len(tableau)) :\n",
    "            if  i+1 < len(tableau) and i-1 >= 0 and  j+1 < len(tableau) and j-1 >= 0:\n",
    "                if tableau[i,j] == 2  and moyenne_voisins(tab_base,i,j) > 0.5 :\n",
    "                    for demandeur in range (0,len(L)-1):\n",
    "                        if L[demandeur] == 1:\n",
    "                            L[demandeur] = -2\n",
    "                            break\n",
    "                                \n",
    "                if tableau[i,j] == 2  and moyenne_voisins(tab_base,i,j) <= 0.5 :\n",
    "                    for demandeur in range (0,len(L)-1):\n",
    "                        if L[demandeur] == 0 :\n",
    "                            L[demandeur] = -2\n",
    "                            break\n",
    "    return L"
   ]
  },
  {
   "cell_type": "code",
   "execution_count": 143,
   "metadata": {},
   "outputs": [
    {
     "name": "stdout",
     "output_type": "stream",
     "text": [
      "\n",
      "\n",
      "\t NOUVEAU  QUARTIER \n",
      "\n",
      "\n",
      "\n",
      "[[0 1 0 1 0 1 1 0 1 0 0 0 0 0 1 0 1 0 0 0]\n",
      " [1 0 0 0 1 1 0 0 0 0 0 0 0 0 1 1 1 0 0 1]\n",
      " [0 1 0 1 0 1 0 0 0 1 1 1 1 0 0 1 1 0 0 0]\n",
      " [1 1 1 0 0 1 1 1 0 0 0 1 0 1 0 0 1 1 0 0]\n",
      " [0 1 0 0 0 0 1 1 1 0 0 1 0 0 1 1 1 1 1 1]\n",
      " [1 1 1 1 1 1 0 0 1 1 1 0 0 0 1 1 1 1 1 0]\n",
      " [1 1 1 1 1 1 1 0 0 1 1 0 1 1 1 1 1 1 0 1]\n",
      " [1 1 1 1 1 1 1 1 1 1 1 1 1 1 1 1 1 0 1 1]\n",
      " [1 1 0 0 1 1 1 1 1 1 1 1 1 1 1 1 1 1 1 1]\n",
      " [0 1 1 0 1 1 1 1 1 1 1 1 1 1 1 0 0 1 1 1]\n",
      " [1 0 1 0 1 1 1 1 0 0 1 1 1 1 1 1 1 1 1 0]\n",
      " [0 0 0 0 0 0 1 1 1 0 1 1 0 1 0 1 1 1 0 1]\n",
      " [0 0 1 0 1 0 0 0 0 1 1 1 0 1 0 0 1 0 0 0]\n",
      " [1 0 1 0 0 1 0 0 1 1 1 1 1 0 0 0 1 1 0 0]\n",
      " [0 1 1 1 1 1 0 1 1 1 1 1 1 1 0 0 0 1 1 1]\n",
      " [0 1 1 1 1 1 1 0 1 0 1 1 1 1 1 0 0 1 1 1]\n",
      " [0 0 0 0 0 0 1 0 0 0 0 0 1 0 1 0 1 1 1 1]\n",
      " [1 1 0 0 0 0 0 1 1 0 0 1 0 0 0 1 1 1 1 0]\n",
      " [0 1 0 0 0 0 1 1 1 1 1 1 1 0 1 1 1 1 1 1]\n",
      " [1 0 1 1 1 1 0 0 1 0 1 1 1 1 0 0 0 1 0 1]]\n",
      "\n",
      "\n",
      "\t NOUVEAU  QUARTIER \n",
      "\n",
      "\n",
      "\n",
      "[[0 1 0 1 0 1 1 0 1 0 0 0 0 0 1 0 1 0 0 0]\n",
      " [1 0 0 0 1 1 0 0 0 0 0 0 0 0 0 1 1 0 0 1]\n",
      " [0 1 0 0 0 1 0 0 0 0 1 1 1 0 0 1 1 0 0 0]\n",
      " [1 1 1 0 0 1 1 1 0 0 0 1 0 1 0 0 1 1 0 0]\n",
      " [0 1 0 0 0 0 1 1 1 0 0 1 0 0 1 1 1 1 1 1]\n",
      " [1 1 1 1 1 1 0 0 1 1 1 0 0 0 1 1 1 1 1 0]\n",
      " [1 1 1 1 1 1 1 0 0 1 1 0 1 1 1 1 1 1 0 1]\n",
      " [1 1 1 1 1 1 1 1 1 1 1 1 1 1 1 1 1 0 1 1]\n",
      " [1 1 0 0 1 1 1 1 1 1 1 1 1 1 1 1 1 1 1 1]\n",
      " [0 1 1 0 1 1 1 1 1 1 1 1 1 1 1 0 0 1 1 1]\n",
      " [1 0 1 0 1 1 1 1 0 0 1 1 1 1 1 1 1 1 1 0]\n",
      " [0 0 0 0 0 0 1 1 1 0 1 1 0 1 0 1 1 1 0 1]\n",
      " [0 0 0 0 1 0 0 0 0 1 1 1 0 1 0 0 1 0 0 0]\n",
      " [1 0 1 0 0 1 0 0 1 1 1 1 1 0 0 0 1 1 0 0]\n",
      " [0 1 1 1 1 1 0 1 1 1 1 1 1 1 0 0 0 1 1 1]\n",
      " [0 1 1 1 1 1 1 0 1 0 1 1 1 1 1 0 0 1 1 1]\n",
      " [0 0 0 0 0 0 1 0 0 0 0 0 1 0 1 0 1 1 1 1]\n",
      " [1 1 0 0 0 0 0 1 1 0 0 1 0 0 0 1 1 1 1 0]\n",
      " [0 1 0 0 0 0 1 1 1 1 1 1 1 0 1 1 1 1 1 1]\n",
      " [1 0 1 1 1 1 0 0 1 0 1 1 1 1 0 0 0 1 0 1]]\n",
      "\n",
      "\n",
      "\t NOUVEAU  QUARTIER \n",
      "\n",
      "\n",
      "\n",
      "[[0 1 0 1 0 1 1 0 1 0 0 0 0 0 1 0 1 0 0 0]\n",
      " [1 0 0 0 1 1 0 0 0 0 0 0 0 0 0 1 1 0 0 1]\n",
      " [0 1 0 0 0 1 0 0 0 0 0 1 0 0 0 1 1 0 0 0]\n",
      " [1 1 0 0 0 1 1 1 0 0 0 1 0 1 0 0 1 1 0 0]\n",
      " [0 1 0 0 0 0 1 1 1 0 0 1 0 0 1 1 1 1 1 1]\n",
      " [1 1 1 1 1 1 0 0 1 1 1 0 0 0 1 1 1 1 1 0]\n",
      " [1 1 1 1 1 1 1 0 0 1 1 0 1 1 1 1 1 1 0 1]\n",
      " [1 1 1 1 1 1 1 1 1 1 1 1 1 1 1 1 1 0 1 1]\n",
      " [1 1 0 0 1 1 1 1 1 1 1 1 1 1 1 1 1 1 1 1]\n",
      " [0 1 1 0 1 1 1 1 1 1 1 1 1 1 1 0 0 1 1 1]\n",
      " [1 0 1 0 1 1 1 1 0 0 1 1 1 1 1 1 1 1 1 0]\n",
      " [0 0 0 0 0 0 1 1 1 0 1 1 0 1 0 1 1 1 0 1]\n",
      " [0 0 0 0 1 0 0 0 0 1 1 1 0 1 0 0 1 0 0 0]\n",
      " [1 0 1 0 0 1 0 0 1 1 1 1 1 0 0 0 1 1 0 0]\n",
      " [0 1 1 1 1 1 0 1 1 1 1 1 1 1 0 0 0 1 1 1]\n",
      " [0 1 1 1 1 1 1 0 1 0 1 1 1 1 1 0 0 1 1 1]\n",
      " [0 0 0 0 0 0 1 0 0 0 0 0 1 0 1 0 1 1 1 1]\n",
      " [1 1 0 0 0 0 0 1 1 0 0 1 0 0 0 1 1 1 1 0]\n",
      " [0 1 0 0 0 0 1 1 1 1 1 1 1 0 1 1 1 1 1 1]\n",
      " [1 0 1 1 1 1 0 0 1 0 1 1 1 1 0 0 0 1 0 1]]\n",
      "\n",
      "\n",
      "\t NOUVEAU  QUARTIER \n",
      "\n",
      "\n",
      "\n",
      "[[0 1 0 1 0 1 1 0 1 0 0 0 0 0 1 0 1 0 0 0]\n",
      " [1 0 0 0 1 1 0 0 0 0 0 0 0 0 0 1 1 0 0 1]\n",
      " [0 1 0 0 0 1 0 0 0 0 0 1 0 0 0 1 1 0 0 0]\n",
      " [1 1 0 0 0 1 1 1 0 0 0 0 0 0 0 0 1 1 0 0]\n",
      " [0 1 0 0 0 0 1 1 1 0 0 1 0 0 1 1 1 1 1 1]\n",
      " [1 1 1 1 1 1 0 0 1 1 1 0 0 0 1 1 1 1 1 0]\n",
      " [1 1 1 1 1 1 1 0 0 1 1 0 1 1 1 1 1 1 0 1]\n",
      " [1 1 1 1 1 1 1 1 1 1 1 1 1 1 1 1 1 0 1 1]\n",
      " [1 1 0 0 1 1 1 1 1 1 1 1 1 1 1 1 1 1 1 1]\n",
      " [0 1 1 0 1 1 1 1 1 1 1 1 1 1 1 0 0 1 1 1]\n",
      " [1 0 1 0 1 1 1 1 0 0 1 1 1 1 1 1 1 1 1 0]\n",
      " [0 0 0 0 0 0 1 1 1 0 1 1 0 1 0 1 1 1 0 1]\n",
      " [0 0 0 0 1 0 0 0 0 1 1 1 0 1 0 0 1 0 0 0]\n",
      " [1 0 1 0 0 1 0 0 1 1 1 1 1 0 0 0 1 1 0 0]\n",
      " [0 1 1 1 1 1 0 1 1 1 1 1 1 1 0 0 0 1 1 1]\n",
      " [0 1 1 1 1 1 1 0 1 0 1 1 1 1 1 0 0 1 1 1]\n",
      " [0 0 0 0 0 0 1 0 0 0 0 0 1 0 1 0 1 1 1 1]\n",
      " [1 1 0 0 0 0 0 1 1 0 0 1 0 0 0 1 1 1 1 0]\n",
      " [0 1 0 0 0 0 1 1 1 1 1 1 1 0 1 1 1 1 1 1]\n",
      " [1 0 1 1 1 1 0 0 1 0 1 1 1 1 0 0 0 1 0 1]]\n",
      "\n",
      "\n",
      "\t NOUVEAU  QUARTIER \n",
      "\n",
      "\n",
      "\n",
      "[[0 1 0 1 0 1 1 0 1 0 0 0 0 0 1 0 1 0 0 0]\n",
      " [1 0 0 0 1 1 0 0 0 0 0 0 0 0 0 1 1 0 0 1]\n",
      " [0 1 0 0 0 1 0 0 0 0 0 1 0 0 0 1 1 0 0 0]\n",
      " [1 1 0 0 0 1 1 1 0 0 0 0 0 0 0 0 1 1 0 0]\n",
      " [0 1 0 0 0 0 1 1 1 0 0 0 0 0 1 1 1 1 1 1]\n",
      " [1 1 1 1 1 1 0 0 1 1 1 0 0 0 1 1 1 1 1 0]\n",
      " [1 1 1 1 1 1 1 0 0 1 1 0 1 1 1 1 1 1 0 1]\n",
      " [1 1 1 1 1 1 1 1 1 1 1 1 1 1 1 1 1 0 1 1]\n",
      " [1 1 0 0 1 1 1 1 1 1 1 1 1 1 1 1 1 1 1 1]\n",
      " [0 1 1 0 1 1 1 1 1 1 1 1 1 1 1 0 0 1 1 1]\n",
      " [1 0 1 0 1 1 1 1 0 0 1 1 1 1 1 1 1 1 1 0]\n",
      " [0 0 0 0 0 0 1 1 1 0 1 1 0 1 0 1 1 1 0 1]\n",
      " [0 0 0 0 1 0 0 0 0 1 1 1 0 1 0 0 1 0 0 0]\n",
      " [1 0 1 0 0 1 0 0 1 1 1 1 1 0 0 0 1 1 0 0]\n",
      " [0 1 1 1 1 1 0 1 1 1 1 1 1 1 0 0 0 1 1 1]\n",
      " [0 0 1 1 1 1 1 0 1 0 1 1 1 1 1 0 0 1 1 1]\n",
      " [0 0 0 0 0 0 1 0 0 0 0 0 1 0 1 0 1 1 1 1]\n",
      " [1 1 0 0 0 0 0 1 1 0 0 1 0 0 0 1 1 1 1 0]\n",
      " [0 1 0 0 0 0 1 1 1 1 1 1 1 0 1 1 1 1 1 1]\n",
      " [1 0 1 1 1 1 0 0 1 0 1 1 1 1 0 0 0 1 0 1]]\n",
      "\n",
      "\n",
      "\t NOUVEAU  QUARTIER \n",
      "\n",
      "\n",
      "\n",
      "[[0 1 0 1 0 1 1 0 1 0 0 0 0 0 1 0 1 0 0 0]\n",
      " [1 0 0 0 1 1 0 0 0 0 0 0 0 0 0 1 1 0 0 1]\n",
      " [0 1 0 0 0 1 0 0 0 0 0 1 0 0 0 1 1 0 0 0]\n",
      " [1 1 0 0 0 1 1 1 0 0 0 0 0 0 0 0 1 1 0 0]\n",
      " [0 1 0 0 0 0 1 1 1 0 0 0 0 0 1 1 1 1 1 1]\n",
      " [1 1 1 1 1 1 0 0 1 1 0 0 0 0 1 1 1 1 1 0]\n",
      " [1 1 1 1 1 1 1 0 0 1 1 0 1 1 1 1 1 1 0 1]\n",
      " [1 1 1 1 1 1 1 1 1 1 1 1 1 1 1 1 1 0 1 1]\n",
      " [1 1 0 0 1 1 1 1 1 1 1 1 1 1 1 1 1 1 1 1]\n",
      " [0 1 1 0 1 1 1 1 1 1 1 1 1 1 1 0 0 1 1 1]\n",
      " [1 0 1 0 1 1 1 1 0 0 1 1 1 1 1 1 1 1 1 0]\n",
      " [0 0 0 0 0 0 1 1 1 0 1 1 0 1 0 1 1 1 0 1]\n",
      " [0 0 0 0 1 0 0 0 0 1 1 1 0 1 0 0 1 0 0 0]\n",
      " [1 0 1 0 0 1 0 0 1 1 1 1 1 0 0 0 1 1 0 0]\n",
      " [0 1 1 1 1 1 0 1 1 1 1 1 1 1 0 0 0 1 1 1]\n",
      " [0 0 1 1 1 1 1 0 1 0 1 1 1 1 1 0 0 1 1 1]\n",
      " [0 0 0 0 0 0 1 0 0 0 0 0 1 0 1 0 1 1 1 1]\n",
      " [1 1 0 0 0 0 0 1 1 0 0 1 0 0 0 1 1 1 1 0]\n",
      " [0 1 0 0 0 0 1 1 1 1 1 1 1 0 1 1 1 1 1 1]\n",
      " [1 0 1 1 1 1 0 0 1 0 1 1 1 1 0 0 0 1 0 1]]\n",
      "\n",
      "\n",
      "\t NOUVEAU  QUARTIER \n",
      "\n",
      "\n",
      "\n",
      "[[0 1 0 1 0 1 1 0 1 0 0 0 0 0 1 0 1 0 0 0]\n",
      " [1 0 0 0 1 1 0 0 0 0 0 0 0 0 0 1 1 0 0 1]\n",
      " [0 1 0 0 0 1 0 0 0 0 0 1 0 0 0 1 1 0 0 0]\n",
      " [1 1 0 0 0 1 1 1 0 0 0 0 0 0 0 0 1 1 0 0]\n",
      " [0 1 0 0 0 0 1 1 1 0 0 0 0 0 1 1 1 1 1 1]\n",
      " [1 1 1 1 1 1 0 0 1 1 0 0 0 0 1 1 1 1 1 0]\n",
      " [1 1 1 1 1 1 1 0 0 1 1 0 1 1 1 1 1 1 0 1]\n",
      " [1 1 1 1 1 1 1 1 1 1 1 1 1 1 1 1 1 0 1 1]\n",
      " [1 1 0 0 1 1 1 1 1 1 1 1 1 1 1 1 1 1 1 1]\n",
      " [0 1 1 0 1 1 1 1 1 1 1 1 1 1 1 0 0 1 1 1]\n",
      " [1 0 1 0 1 1 1 1 0 0 1 1 1 1 1 1 1 1 1 0]\n",
      " [0 0 0 0 0 0 1 1 1 0 1 1 0 1 0 1 1 1 0 1]\n",
      " [0 0 0 0 1 0 0 0 0 1 1 1 0 1 0 0 1 0 0 0]\n",
      " [1 0 1 0 0 1 0 0 1 1 1 1 1 0 0 0 1 1 0 0]\n",
      " [0 1 1 1 1 1 0 1 1 1 1 1 1 1 0 0 0 1 1 1]\n",
      " [0 0 1 1 1 1 1 0 1 0 1 1 1 1 1 0 0 1 1 1]\n",
      " [0 0 0 0 0 0 1 0 0 0 0 0 1 0 1 0 1 1 1 1]\n",
      " [1 1 0 0 0 0 0 1 1 0 0 1 0 0 0 1 1 1 1 0]\n",
      " [0 1 0 0 0 0 1 1 1 1 1 1 1 0 1 1 1 1 1 1]\n",
      " [1 0 1 1 1 1 0 0 1 0 1 1 1 1 0 0 0 1 0 1]]\n",
      "\n",
      "\n",
      "\t NOUVEAU  QUARTIER \n",
      "\n",
      "\n",
      "\n",
      "[[0 1 0 1 0 1 1 0 1 0 0 0 0 0 1 0 1 0 0 0]\n",
      " [1 0 0 0 1 1 0 0 0 0 0 0 0 0 0 1 1 0 0 1]\n",
      " [0 1 0 0 0 1 0 0 0 0 0 1 0 0 0 1 1 0 0 0]\n",
      " [1 1 0 0 0 1 1 1 0 0 0 0 0 0 0 0 1 1 0 0]\n",
      " [0 1 0 0 0 0 1 1 1 0 0 0 0 0 1 1 1 1 1 1]\n",
      " [1 1 1 1 1 1 0 0 1 1 0 0 0 0 1 1 1 1 1 0]\n",
      " [1 1 1 1 1 1 1 0 0 1 1 0 1 1 1 1 1 1 0 1]\n",
      " [1 1 1 1 1 1 1 1 1 1 1 1 1 1 1 1 1 0 1 1]\n",
      " [1 1 0 0 1 1 1 1 1 1 1 1 1 1 1 1 1 1 1 1]\n",
      " [0 1 1 0 1 1 1 1 1 1 1 1 1 1 1 0 0 1 1 1]\n",
      " [1 0 1 0 1 1 1 1 0 0 1 1 1 1 1 1 1 1 1 0]\n",
      " [0 0 0 0 0 0 1 1 1 0 1 1 0 1 0 1 1 1 0 1]\n",
      " [0 0 0 0 1 0 0 0 0 1 1 1 0 1 0 0 1 0 0 0]\n",
      " [1 0 1 0 0 1 0 0 1 1 1 1 1 0 0 0 1 1 0 0]\n",
      " [0 1 1 1 1 1 0 1 1 1 1 1 1 1 0 0 0 1 1 1]\n",
      " [0 0 1 1 1 1 1 0 1 0 1 1 1 1 1 0 0 1 1 1]\n",
      " [0 0 0 0 0 0 1 0 0 0 0 0 1 0 1 0 1 1 1 1]\n",
      " [1 1 0 0 0 0 0 1 1 0 0 1 0 0 0 1 1 1 1 0]\n",
      " [0 1 0 0 0 0 1 1 1 1 1 1 1 0 1 1 1 1 1 1]\n",
      " [1 0 1 1 1 1 0 0 1 0 1 1 1 1 0 0 0 1 0 1]]\n",
      "\n",
      "\n",
      "\t NOUVEAU  QUARTIER \n",
      "\n",
      "\n",
      "\n",
      "[[0 1 0 1 0 1 1 0 1 0 0 0 0 0 1 0 1 0 0 0]\n",
      " [1 0 0 0 1 1 0 0 0 0 0 0 0 0 0 1 1 0 0 1]\n",
      " [0 1 0 0 0 1 0 0 0 0 0 1 0 0 0 1 1 0 0 0]\n",
      " [1 1 0 0 0 1 1 1 0 0 0 0 0 0 0 0 1 1 0 0]\n",
      " [0 1 0 0 0 0 1 1 1 0 0 0 0 0 1 1 1 1 1 1]\n",
      " [1 1 1 1 1 1 0 0 1 1 0 0 0 0 1 1 1 1 1 0]\n",
      " [1 1 1 1 1 1 1 0 0 1 1 0 1 1 1 1 1 1 0 1]\n",
      " [1 1 1 1 1 1 1 1 1 1 1 1 1 1 1 1 1 0 1 1]\n",
      " [1 1 0 0 1 1 1 1 1 1 1 1 1 1 1 1 1 1 1 1]\n",
      " [0 1 1 0 1 1 1 1 1 1 1 1 1 1 1 0 0 1 1 1]\n",
      " [1 0 1 0 1 1 1 1 0 0 1 1 1 1 1 1 1 1 1 0]\n",
      " [0 0 0 0 0 0 1 1 1 0 1 1 0 1 0 1 1 1 0 1]\n",
      " [0 0 0 0 1 0 0 0 0 1 1 1 0 1 0 0 1 0 0 0]\n",
      " [1 0 1 0 0 1 0 0 1 1 1 1 1 0 0 0 1 1 0 0]\n",
      " [0 1 1 1 1 1 0 1 1 1 1 1 1 1 0 0 0 1 1 1]\n",
      " [0 0 1 1 1 1 1 0 1 0 1 1 1 1 1 0 0 1 1 1]\n",
      " [0 0 0 0 0 0 1 0 0 0 0 0 1 0 1 0 1 1 1 1]\n",
      " [1 1 0 0 0 0 0 1 1 0 0 1 0 0 0 1 1 1 1 0]\n",
      " [0 1 0 0 0 0 1 1 1 1 1 1 1 0 1 1 1 1 1 1]\n",
      " [1 0 1 1 1 1 0 0 1 0 1 1 1 1 0 0 0 1 0 1]]\n",
      "\n",
      "\n",
      "\t NOUVEAU  QUARTIER \n",
      "\n",
      "\n",
      "\n",
      "[[0 1 0 1 0 1 1 0 1 0 0 0 0 0 1 0 1 0 0 0]\n",
      " [1 0 0 0 1 1 0 0 0 0 0 0 0 0 0 1 1 0 0 1]\n",
      " [0 1 0 0 0 1 0 0 0 0 0 1 0 0 0 1 1 0 0 0]\n",
      " [1 1 0 0 0 1 1 1 0 0 0 0 0 0 0 0 1 1 0 0]\n",
      " [0 1 0 0 0 0 1 1 1 0 0 0 0 0 1 1 1 1 1 1]\n",
      " [1 1 1 1 1 1 0 0 1 1 0 0 0 0 1 1 1 1 1 0]\n",
      " [1 1 1 1 1 1 1 0 0 1 1 0 1 1 1 1 1 1 0 1]\n",
      " [1 1 1 1 1 1 1 1 1 1 1 1 1 1 1 1 1 0 1 1]\n",
      " [1 1 0 0 1 1 1 1 1 1 1 1 1 1 1 1 1 1 1 1]\n",
      " [0 1 1 0 1 1 1 1 1 1 1 1 1 1 1 0 0 1 1 1]\n",
      " [1 0 1 0 1 1 1 1 0 0 1 1 1 1 1 1 1 1 1 0]\n",
      " [0 0 0 0 0 0 1 1 1 0 1 1 0 1 0 1 1 1 0 1]\n",
      " [0 0 0 0 1 0 0 0 0 1 1 1 0 1 0 0 1 0 0 0]\n",
      " [1 0 1 0 0 1 0 0 1 1 1 1 1 0 0 0 1 1 0 0]\n",
      " [0 1 1 1 1 1 0 1 1 1 1 1 1 1 0 0 0 1 1 1]\n",
      " [0 0 1 1 1 1 1 0 1 0 1 1 1 1 1 0 0 1 1 1]\n",
      " [0 0 0 0 0 0 1 0 0 0 0 0 1 0 1 0 1 1 1 1]\n",
      " [1 1 0 0 0 0 0 1 1 0 0 1 0 0 0 1 1 1 1 0]\n",
      " [0 1 0 0 0 0 1 1 1 1 1 1 1 0 1 1 1 1 1 1]\n",
      " [1 0 1 1 1 1 0 0 1 0 1 1 1 1 0 0 0 1 0 1]]\n"
     ]
    },
    {
     "data": {
      "image/png": "[encoded data removed]",
      "text/plain": [
       "<Figure size 288x288 with 1 Axes>"
      ]
     },
     "metadata": {
      "needs_background": "light"
     },
     "output_type": "display_data"
    },
    {
     "data": {
      "image/png": "[encoded data removed]",
      "text/plain": [
       "<Figure size 288x288 with 1 Axes>"
      ]
     },
     "metadata": {
      "needs_background": "light"
     },
     "output_type": "display_data"
    },
    {
     "data": {
      "image/png": "[encoded data removed]",
      "text/plain": [
       "<Figure size 288x288 with 1 Axes>"
      ]
     },
     "metadata": {
      "needs_background": "light"
     },
     "output_type": "display_data"
    },
    {
     "data": {
      "image/png": "[encoded data removed]",
      "text/plain": [
       "<Figure size 288x288 with 1 Axes>"
      ]
     },
     "metadata": {
      "needs_background": "light"
     },
     "output_type": "display_data"
    },
    {
     "data": {
      "image/png": "[encoded data removed]",
      "text/plain": [
       "<Figure size 288x288 with 1 Axes>"
      ]
     },
     "metadata": {
      "needs_background": "light"
     },
     "output_type": "display_data"
    },
    {
     "data": {
      "image/png": "[encoded data removed]",
      "text/plain": [
       "<Figure size 288x288 with 1 Axes>"
      ]
     },
     "metadata": {
      "needs_background": "light"
     },
     "output_type": "display_data"
    },
    {
     "data": {
      "image/png": "[encoded data removed]",
      "text/plain": [
       "<Figure size 288x288 with 1 Axes>"
      ]
     },
     "metadata": {
      "needs_background": "light"
     },
     "output_type": "display_data"
    },
    {
     "data": {
      "image/png": "[encoded data removed]",
      "text/plain": [
       "<Figure size 288x288 with 1 Axes>"
      ]
     },
     "metadata": {
      "needs_background": "light"
     },
     "output_type": "display_data"
    },
    {
     "data": {
      "image/png": "[encoded data removed]",
      "text/plain": [
       "<Figure size 288x288 with 1 Axes>"
      ]
     },
     "metadata": {
      "needs_background": "light"
     },
     "output_type": "display_data"
    },
    {
     "data": {
      "image/png": "[encoded data removed]",
      "text/plain": [
       "<Figure size 288x288 with 1 Axes>"
      ]
     },
     "metadata": {
      "needs_background": "light"
     },
     "output_type": "display_data"
    },
    {
     "data": {
      "image/png": "[encoded data removed]",
      "text/plain": [
       "<Figure size 288x288 with 1 Axes>"
      ]
     },
     "metadata": {
      "needs_background": "light"
     },
     "output_type": "display_data"
    },
    {
     "data": {
      "text/plain": [
       "0"
      ]
     },
     "execution_count": 143,
     "metadata": {},
     "output_type": "execute_result"
    }
   ],
   "source": [
    "def n_generations(tab_bases,n):\n",
    "    \"\"\" transformation de la ville selon les generation \"\"\"\n",
    "    \n",
    "    ancienneV = tab_bases\n",
    "    plt.matshow(ancienneV)\n",
    "    \n",
    "    for nb in range(0,n-1):\n",
    "\n",
    "        demenagementDM  = posedemenagement(ancienneV)\n",
    "        Ldm = Ldemande(ancienneV)\n",
    "        nouvV = demenagement(demenagementDM,ancienneV,Ldm) \n",
    "        ancienneV = nouvV\n",
    "        \n",
    "        plt.matshow(nouvV) \n",
    "    plt.show()\n",
    "    \n",
    "    return 0\n",
    "\n",
    "n_generations(tab_base,11)"
   ]
  },
  {
   "cell_type": "markdown",
   "metadata": {},
   "source": [
    "***journee programme fini ***"
   ]
  },
  {
   "cell_type": "markdown",
   "metadata": {},
   "source": [
    "***relier ca avec creation de gang et avec cela expliquer comment les cartier fond pour etre plus dangereux***\n"
   ]
  }
 ],
 "metadata": {
  "kernelspec": {
   "display_name": "Python 3",
   "language": "python",
   "name": "python3"
  },
  "language_info": {
   "codemirror_mode": {
    "name": "ipython",
    "version": 3
   },
   "file_extension": ".py",
   "mimetype": "text/x-python",
   "name": "python",
   "nbconvert_exporter": "python",
   "pygments_lexer": "ipython3",
   "version": "3.7.1"
  }
 },
 "nbformat": 4,
 "nbformat_minor": 2
}
